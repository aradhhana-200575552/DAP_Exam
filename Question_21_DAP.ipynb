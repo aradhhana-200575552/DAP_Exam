{
 "cells": [
  {
   "cell_type": "markdown",
   "id": "ee4f9449-0e5a-438d-a501-d9e43edb602e",
   "metadata": {},
   "source": [
    "# Question 21"
   ]
  },
  {
   "cell_type": "code",
   "execution_count": 11,
   "id": "ea2df010-3c26-4dda-b39d-e7a960e083da",
   "metadata": {},
   "outputs": [
    {
     "name": "stdout",
     "output_type": "stream",
     "text": [
      "Length: 5.0\n",
      "Slope: 0.75\n"
     ]
    }
   ],
   "source": [
    "import math\n",
    "\n",
    "class Point:\n",
    "    def __init__(self, x=0, y=0):\n",
    "        self.x = x\n",
    "        self.y = y\n",
    "\n",
    "class Segment:\n",
    "    def __init__(self, p1: Point, p2: Point):\n",
    "        self.p1 = p1\n",
    "        self.p2 = p2\n",
    "\n",
    "    def length(self):\n",
    "        return math.sqrt((self.p2.x - self.p1.x) ** 2 + (self.p2.y - self.p1.y) ** 2)\n",
    "\n",
    "    def slope(self):\n",
    "        if self.p2.x - self.p1.x == 0:  # Check for vertical line\n",
    "            return None\n",
    "        return (self.p2.y - self.p1.y) / (self.p2.x - self.p1.x)\n",
    "\n",
    "# Example Usage\n",
    "p1 = Point(3, 4)\n",
    "p2 = Point(7, 7)  # Coordinates chosen to give the length of 5 and slope of 0.75\n",
    "s = Segment(p1, p2)\n",
    "\n",
    "print(\"Length:\", s.length())  # Should output 5.0\n",
    "print(\"Slope:\", s.slope())    # Should output 0.75\n"
   ]
  }
 ],
 "metadata": {
  "kernelspec": {
   "display_name": "Python 3 (ipykernel)",
   "language": "python",
   "name": "python3"
  },
  "language_info": {
   "codemirror_mode": {
    "name": "ipython",
    "version": 3
   },
   "file_extension": ".py",
   "mimetype": "text/x-python",
   "name": "python",
   "nbconvert_exporter": "python",
   "pygments_lexer": "ipython3",
   "version": "3.12.2"
  }
 },
 "nbformat": 4,
 "nbformat_minor": 5
}
