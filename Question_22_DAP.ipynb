{
 "cells": [
  {
   "cell_type": "markdown",
   "id": "b96a8d11-559c-4545-8989-3ba8ef7fb032",
   "metadata": {},
   "source": [
    "# Question 22"
   ]
  },
  {
   "cell_type": "code",
   "execution_count": 2,
   "id": "733b66dd-ec6d-45fb-9cbe-723eded50ec6",
   "metadata": {},
   "outputs": [
    {
     "name": "stdout",
     "output_type": "stream",
     "text": [
      "   id\n",
      "0   2\n",
      "1   4\n"
     ]
    }
   ],
   "source": [
    "# Import necessary libraries\n",
    "import sqlite3\n",
    "import pandas as pd\n",
    "\n",
    "# Create a connection to SQLite database\n",
    "conn = sqlite3.connect(':memory:')  # Using in-memory database for this example\n",
    "\n",
    "# Create the Weather table\n",
    "create_table_query = \"\"\"\n",
    "CREATE TABLE Weather (\n",
    "    id INT PRIMARY KEY,\n",
    "    recordDate DATE,\n",
    "    temperature INT\n",
    ");\n",
    "\"\"\"\n",
    "\n",
    "# Execute the table creation\n",
    "conn.execute(create_table_query)\n",
    "\n",
    "# Insert the provided data into the Weather table\n",
    "insert_data_query = \"\"\"\n",
    "INSERT INTO Weather (id, recordDate, temperature) VALUES\n",
    "(1, '2015-01-01', 10),\n",
    "(2, '2015-01-02', 25),\n",
    "(3, '2015-01-03', 20),\n",
    "(4, '2015-01-04', 30);\n",
    "\"\"\"\n",
    "\n",
    "# Execute the insert data query\n",
    "conn.execute(insert_data_query)\n",
    "\n",
    "# Commit the changes\n",
    "conn.commit()\n",
    "\n",
    "# Define the SQL query to find IDs with higher temperatures than the previous day\n",
    "sql_query = \"\"\"\n",
    "SELECT w1.id\n",
    "FROM Weather w1\n",
    "JOIN Weather w2 ON w1.recordDate = DATE(w2.recordDate, '+1 day')\n",
    "WHERE w1.temperature > w2.temperature;\n",
    "\"\"\"\n",
    "\n",
    "# Execute the SQL query and fetch the results\n",
    "result = pd.read_sql_query(sql_query, conn)\n",
    "\n",
    "# Display the result\n",
    "print(result)\n",
    "\n",
    "# Close the connection\n",
    "conn.close()\n"
   ]
  }
 ],
 "metadata": {
  "kernelspec": {
   "display_name": "Python 3 (ipykernel)",
   "language": "python",
   "name": "python3"
  },
  "language_info": {
   "codemirror_mode": {
    "name": "ipython",
    "version": 3
   },
   "file_extension": ".py",
   "mimetype": "text/x-python",
   "name": "python",
   "nbconvert_exporter": "python",
   "pygments_lexer": "ipython3",
   "version": "3.12.2"
  }
 },
 "nbformat": 4,
 "nbformat_minor": 5
}
