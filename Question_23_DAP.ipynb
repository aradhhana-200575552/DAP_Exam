{
 "cells": [
  {
   "cell_type": "markdown",
   "id": "0af57aec-a341-4a12-9ebe-942d5374cb3e",
   "metadata": {},
   "source": [
    "# Question 23"
   ]
  },
  {
   "cell_type": "code",
   "execution_count": 3,
   "id": "1d6107d9-ec18-4fbd-b61d-fc8adcc0469f",
   "metadata": {},
   "outputs": [
    {
     "name": "stdout",
     "output_type": "stream",
     "text": [
      "f(0, 0):\n",
      "\n",
      "\n",
      "f(0, 1):\n",
      "*\n",
      "\n",
      "\n",
      "f(0, 2):\n",
      " *\n",
      "**\n",
      " *\n",
      "\n",
      "\n",
      "f(0, 4):\n",
      "   *\n",
      "  **\n",
      "   *\n",
      " ***\n",
      "   *\n",
      "  **\n",
      "   *\n",
      "****\n",
      "   *\n",
      "  **\n",
      "   *\n",
      " ***\n",
      "   *\n",
      "  **\n",
      "   *\n"
     ]
    }
   ],
   "source": [
    "def f(ind, num_of_stars):\n",
    "    if num_of_stars == 0:\n",
    "        return\n",
    "    \n",
    "    # First recursive call\n",
    "    f(ind + 1, num_of_stars - 1)\n",
    "    \n",
    "    # Print the current row of stars\n",
    "    print(' ' * ind + '*' * num_of_stars)\n",
    "    \n",
    "    # Second recursive call\n",
    "    f(ind + 1, num_of_stars - 1)\n",
    "\n",
    "# Test the function\n",
    "print(\"f(0, 0):\")\n",
    "f(0, 0)\n",
    "print(\"\\n\")\n",
    "\n",
    "print(\"f(0, 1):\")\n",
    "f(0, 1)\n",
    "print(\"\\n\")\n",
    "\n",
    "print(\"f(0, 2):\")\n",
    "f(0, 2)\n",
    "print(\"\\n\")\n",
    "\n",
    "print(\"f(0, 4):\")\n",
    "f(0, 4)\n"
   ]
  }
 ],
 "metadata": {
  "kernelspec": {
   "display_name": "Python 3 (ipykernel)",
   "language": "python",
   "name": "python3"
  },
  "language_info": {
   "codemirror_mode": {
    "name": "ipython",
    "version": 3
   },
   "file_extension": ".py",
   "mimetype": "text/x-python",
   "name": "python",
   "nbconvert_exporter": "python",
   "pygments_lexer": "ipython3",
   "version": "3.12.2"
  }
 },
 "nbformat": 4,
 "nbformat_minor": 5
}
