{
 "cells": [
  {
   "cell_type": "markdown",
   "id": "0af57aec-a341-4a12-9ebe-942d5374cb3e",
   "metadata": {},
   "source": [
    "# Question 23"
   ]
  },
  {
   "cell_type": "code",
   "execution_count": 2,
   "id": "bf996022-42bf-45d1-9094-056fb44a6842",
   "metadata": {},
   "outputs": [
    {
     "name": "stdout",
     "output_type": "stream",
     "text": [
      "*\n",
      "\n",
      "**\n",
      "\n",
      "**\n",
      "****\n",
      "**\n",
      "**\n",
      "**\n"
     ]
    }
   ],
   "source": [
    "\n",
    "def f(indent, num_stars):\n",
    "    def print_line(n, stars):\n",
    "        print(' ' * (n * indent) + '*' * stars)\n",
    "\n",
    "    def pattern(n, stars, increasing=True):\n",
    "        if stars <= 0:\n",
    "            return\n",
    "        print_line(n, stars)\n",
    "        next_stars = stars + 2 if increasing else stars - 2\n",
    "        if next_stars > num_stars:\n",
    "            increasing = False\n",
    "            next_stars = stars - 2\n",
    "        pattern(n + 1, next_stars, increasing)\n",
    "        if stars != num_stars:  # Avoid repeating the middle line\n",
    "            print_line(n, stars)\n",
    "\n",
    "    if num_stars % 2 == 0:\n",
    "        pattern(0, 2)  # Start from 2 stars if even\n",
    "    else:\n",
    "        pattern(0, 1)  # Start from 1 star if odd\n",
    "\n",
    "# Test the function with examples as per the provided patterns\n",
    "f(0, 1)\n",
    "print()  # Adding a space between different function calls for clarity\n",
    "f(0, 2)\n",
    "print()  # Adding a space between different function calls for clarity\n",
    "f(0, 4)\n"
   ]
  }
 ],
 "metadata": {
  "kernelspec": {
   "display_name": "Python 3 (ipykernel)",
   "language": "python",
   "name": "python3"
  },
  "language_info": {
   "codemirror_mode": {
    "name": "ipython",
    "version": 3
   },
   "file_extension": ".py",
   "mimetype": "text/x-python",
   "name": "python",
   "nbconvert_exporter": "python",
   "pygments_lexer": "ipython3",
   "version": "3.12.2"
  }
 },
 "nbformat": 4,
 "nbformat_minor": 5
}
